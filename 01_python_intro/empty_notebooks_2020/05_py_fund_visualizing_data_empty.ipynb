{
 "cells": [
  {
   "cell_type": "markdown",
   "metadata": {},
   "source": [
    "# Visulaizing data\n",
    "\n",
    "Can you look at at matrix of numbers and see what's going on with our test data? I can't if it's a lot of people or a lot of days.\n",
    "\n",
    "We humans are really good though at looking at images. This is one of the reasons why data visualization is such a fundemental part of data analysis: your brain can do all sorts of really complicated processing when it sees images. \n",
    "\n",
    "Python has some really great ways to visualize out data. One of the standards is a library called `matplotlib`. Inside `matplotlib` is a collection of plotting tools called `pyplot` that are used all the time. Throughout the course we are going to make some great plots with `matplotlib`.\n",
    "\n",
    "Let's `matplotlib` out and use it to investigate our data. \n",
    "\n",
    "### installing `matplotlib` with (Ana)conda\n",
    "to get `matplotlib`  we follow the same process that we did with `numpy` (you only need to do this the first time we go throug this):\n",
    "1. go to the little `+` on the left to open a `launcher` window. \n",
    "1. click the 'terminal' tile to open a terminal\n",
    "1. type `conda env list` and hit enter. Make sure that there is a `*` next to the line that says swbc\n",
    "1. if that's right type `conda install matplotlib`\n",
    "1. when it asks `proceed ([y]/n)?` type `y` and hit enter\n",
    "\n",
    "Just as we imported the `numpy` library we'll need to import the `pyplot` module from the `matplotlib` library.  We can do that using the same syntax.\n",
    "\n",
    "We are going to import a lot of helper tools (see comic below). We are lazy and would like to not type 'numpy' and 'matplotlib' out all the time in our code. fortunately we can use a shortcut to give nicknames to the libaries. To import a librbary with a nickname we do it with the `as` keyword, like this:\n",
    "\n",
    "```python\n",
    "import numpy as np\n",
    "import matplotlib.pyplot as plt\n",
    "```\n",
    "\n",
    "This is standard practice when writing python code and it will make our lives easier. \n",
    "\n",
    "#### XKCD Python:\n",
    "![](https://imgs.xkcd.com/comics/python.png)\n",
    "\n",
    "\n",
    "\n",
    "## Credit:\n",
    "\n",
    "things here are a mix of the really excellent Software Carpentry tutorial on Python: http://swcarpentry.github.io/python-novice-inflammation/ \n",
    "\n",
    "I've made some slight adaptations here and there, but the credit goes to those organizations. I hope I am using this correctly under the licences:\n",
    "\n",
    "https://earth-env-data-science.github.io/LICENSE.html\n",
    "https://swcarpentry.github.io/python-novice-inflammation/LICENSE.html\n",
    "\n"
   ]
  },
  {
   "cell_type": "code",
   "execution_count": null,
   "metadata": {},
   "outputs": [],
   "source": [
    "# import numpy and matplotlib.pyplot with nicknames:\n",
    "\n",
    "\n"
   ]
  },
  {
   "cell_type": "markdown",
   "metadata": {},
   "source": [
    "next, we are in a new notebook now, so we need to load in our test data again. How did we do that?\n"
   ]
  },
  {
   "cell_type": "code",
   "execution_count": null,
   "metadata": {},
   "outputs": [],
   "source": [
    "# load in your data again\n"
   ]
  },
  {
   "cell_type": "markdown",
   "metadata": {},
   "source": [
    "### visulaization with matplotlib\n",
    "\n",
    "\n",
    "![](https://matplotlib.org/_static/logo2_compressed.svg)\n",
    "Matplotlib can make some beautiful plots. They have great documentation where you can see and learn how to produce many plots: https://matplotlib.org/gallery/index.html\n",
    "\n",
    "\n",
    "With just a single line of code we can make a nice heatmap visualization of our data using a function called `imshow`, which sounds like 'image show'"
   ]
  },
  {
   "cell_type": "code",
   "execution_count": null,
   "metadata": {},
   "outputs": [],
   "source": [
    "# plot the data using 'imshow'\n",
    "\n"
   ]
  },
  {
   "cell_type": "markdown",
   "metadata": {},
   "source": [
    "### awesome!\n",
    "\n",
    "What is this showing? this is great, but we can't really use this as is, we need axis labels. What are the labels for the axis?\n",
    "\n",
    "We can label axis with the matplotlib functions: `plt.xlabel()` and `plt.ylabel()`\n",
    "\n",
    "\n"
   ]
  },
  {
   "cell_type": "code",
   "execution_count": null,
   "metadata": {},
   "outputs": [],
   "source": [
    "# plot it again, but with labels this time\n",
    "\n"
   ]
  },
  {
   "cell_type": "markdown",
   "metadata": {},
   "source": [
    "### double awesome\n",
    "\n",
    "except we need something else. What do those colors mean? We need a label for the colorscale. \n",
    "\n",
    "We can get this using the matplotlib function `plt.colorbar()`"
   ]
  },
  {
   "cell_type": "code",
   "execution_count": null,
   "metadata": {},
   "outputs": [],
   "source": [
    "# make the plot with labels and a colorbar\n",
    "\n"
   ]
  },
  {
   "cell_type": "markdown",
   "metadata": {},
   "source": [
    "There are many, many types of plots. Above we are visualizing all our data. \n",
    "\n",
    "What if we just want to plot the inflammation through time of patient 0? \n",
    "\n",
    "We need to select just patient 0, then we can use another plotting function from matplotlib called `plot()`. You can read about all the options for using `plot()` by checking out its documentation: https://matplotlib.org/3.3.0/api/_as_gen/matplotlib.pyplot.plot.html\n",
    "\n"
   ]
  },
  {
   "cell_type": "code",
   "execution_count": null,
   "metadata": {},
   "outputs": [],
   "source": [
    "# select just patient 0 data and plot it with labeled axes\n",
    "\n"
   ]
  },
  {
   "cell_type": "markdown",
   "metadata": {},
   "source": [
    "## subplots: grouping plots\n",
    "\n",
    "You can group similar plots in a single figure using subplots. Maybe we want to look in detail at the first three patient's data.\n",
    "\n",
    "This script below uses a number of new commands. The function `plt.figure()` creates a space into which we will place all of our plots. The parameter `figsize` tells Python how big to make this space. Each subplot is placed into the figure using its `add_subplot` method. The `add_subplot` method takes 3 parameters. The first denotes how many total rows of subplots there are, the second parameter refers to the total number of subplot columns, and the final parameter denotes which subplot your variable is referencing (left-to-right, top-to-bottom). Each subplot is stored in a different variable `(axes1, axes2, axes3)`. Once a subplot is created, the axes can be labeled using the `set_xlabel()` command (or `set_ylabel()`). Here are our three plots side by side:"
   ]
  },
  {
   "cell_type": "code",
   "execution_count": null,
   "metadata": {},
   "outputs": [],
   "source": [
    "# make a figure with subplots\n",
    "\n",
    "\n"
   ]
  },
  {
   "cell_type": "markdown",
   "metadata": {},
   "source": [
    "# Break\n",
    "\n",
    "# breakout excercise\n",
    "\n",
    "Combining the visualization tools of matplotlib with some of the functions we used with numpy, we can generate some more descriptive plots.\n",
    "\n",
    "Use the subplot code above, but in this case plot the mean, maximum, and minimum of all patients over time using numpy functions:  \n",
    "``` python\n",
    "np.mean(data, axis = __)\n",
    "np.max(data, axis = __)\n",
    "np.min(data, axis = __)\n",
    "```\n",
    "\n",
    "you can creat variables for each statistic, or you can put the function directly into the `plt.plot()` function, it's up to you. Label your axes appropriatly"
   ]
  },
  {
   "cell_type": "code",
   "execution_count": null,
   "metadata": {},
   "outputs": [],
   "source": [
    "# answer here:\n",
    "\n",
    "\n"
   ]
  },
  {
   "cell_type": "code",
   "execution_count": null,
   "metadata": {},
   "outputs": [],
   "source": []
  }
 ],
 "metadata": {
  "kernelspec": {
   "display_name": "Python 3",
   "language": "python",
   "name": "python3"
  },
  "language_info": {
   "codemirror_mode": {
    "name": "ipython",
    "version": 3
   },
   "file_extension": ".py",
   "mimetype": "text/x-python",
   "name": "python",
   "nbconvert_exporter": "python",
   "pygments_lexer": "ipython3",
   "version": "3.8.5"
  }
 },
 "nbformat": 4,
 "nbformat_minor": 4
}
